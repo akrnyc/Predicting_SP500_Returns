{
 "cells": [
  {
   "cell_type": "code",
   "execution_count": null,
   "metadata": {},
   "outputs": [],
   "source": [
    "from IPython.core.interactiveshell import InteractiveShell\n",
    "InteractiveShell.ast_node_interactivity = \"all\""
   ]
  },
  {
   "cell_type": "code",
   "execution_count": null,
   "metadata": {},
   "outputs": [],
   "source": [
    "#resources\n",
    "\n",
    "import pandas as pd\n",
    "import os\n",
    "import json"
   ]
  },
  {
   "attachments": {},
   "cell_type": "markdown",
   "metadata": {},
   "source": [
    "# Introduction\n",
    "\n",
    "## Problem\n",
    "\n",
    "Daily stock market return data are notoriously difficult to predict given volatiltity due to many possible predictors and underlying interactions.\n",
    "\n",
    "## Goal\n",
    "\n",
    "To predict S&P 500 returns based on news data.\n",
    "\n",
    "## Data\n",
    "\n",
    "Predictors:\n",
    "* Huff Post News Data (https://www.kaggle.com/datasets/rmisra/news-category-dataset)\n",
    "    * **category**: category in which the article was published.\n",
    "    * **headline**: the headline of the news article.\n",
    "    * **authors**: list of authors who contributed to the article.\n",
    "    * **link**: link to the original news article.\n",
    "    * **short_description**: Abstract of the news article.\n",
    "    * **date**: publication date of the article.\n",
    "\n",
    "Target:\n",
    "* S&P500 Data (https://fred.stlouisfed.org/series/SP500)\n",
    "    * **Returns** (USD) between\n",
    "\n",
    "## Methodology\n",
    "\n",
    "1. Data ETL\n",
    "2. Data Pre-Processing\n",
    "3. Text predictor feature extraction (TF-IDF, BERT)\n",
    "4. Feature engineering\n",
    "5. Modeling\n",
    "    * Logistic Regression (baseline prediction)\n",
    "    * Random Forest Regression (ensemble learner prediction)\n",
    "    * Autokeras (out-of-the-box neural net prediction)\n",
    "    * 1D CNN (custom spatio-temportal prediction)\n",
    "    * LSTM (custom time-series prediction)\n"
   ]
  },
  {
   "attachments": {},
   "cell_type": "markdown",
   "metadata": {},
   "source": [
    "# ETL"
   ]
  },
  {
   "cell_type": "code",
   "execution_count": null,
   "metadata": {},
   "outputs": [],
   "source": []
  },
  {
   "attachments": {},
   "cell_type": "markdown",
   "metadata": {},
   "source": [
    "# Pre-Processing"
   ]
  },
  {
   "cell_type": "code",
   "execution_count": null,
   "metadata": {},
   "outputs": [],
   "source": [
    "#continuous variable scaling"
   ]
  },
  {
   "cell_type": "code",
   "execution_count": null,
   "metadata": {},
   "outputs": [],
   "source": [
    "#text pre-processing"
   ]
  },
  {
   "attachments": {},
   "cell_type": "markdown",
   "metadata": {},
   "source": [
    "# Text Feature Extraction"
   ]
  },
  {
   "cell_type": "code",
   "execution_count": null,
   "metadata": {},
   "outputs": [],
   "source": [
    "#TF-IDF vectorization"
   ]
  },
  {
   "cell_type": "code",
   "execution_count": null,
   "metadata": {},
   "outputs": [],
   "source": [
    "#BERT embeddings"
   ]
  },
  {
   "attachments": {},
   "cell_type": "markdown",
   "metadata": {},
   "source": [
    "# Feature Engineering"
   ]
  },
  {
   "cell_type": "code",
   "execution_count": null,
   "metadata": {},
   "outputs": [],
   "source": [
    "# lasso regression"
   ]
  },
  {
   "cell_type": "code",
   "execution_count": null,
   "metadata": {},
   "outputs": [],
   "source": [
    "# ridge regression"
   ]
  },
  {
   "attachments": {},
   "cell_type": "markdown",
   "metadata": {},
   "source": [
    "# Predictive Models"
   ]
  },
  {
   "cell_type": "code",
   "execution_count": null,
   "metadata": {},
   "outputs": [],
   "source": [
    "#logistic regression"
   ]
  },
  {
   "cell_type": "code",
   "execution_count": null,
   "metadata": {},
   "outputs": [],
   "source": [
    "#random forest regression"
   ]
  },
  {
   "cell_type": "code",
   "execution_count": null,
   "metadata": {},
   "outputs": [],
   "source": [
    "#autokeras"
   ]
  },
  {
   "cell_type": "code",
   "execution_count": null,
   "metadata": {},
   "outputs": [],
   "source": [
    "#1D CNN"
   ]
  },
  {
   "cell_type": "code",
   "execution_count": null,
   "metadata": {},
   "outputs": [],
   "source": [
    "#LSTM"
   ]
  }
 ],
 "metadata": {
  "language_info": {
   "name": "python"
  },
  "orig_nbformat": 4
 },
 "nbformat": 4,
 "nbformat_minor": 2
}
